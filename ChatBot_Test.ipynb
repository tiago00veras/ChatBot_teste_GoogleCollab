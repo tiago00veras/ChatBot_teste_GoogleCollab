{
  "nbformat": 4,
  "nbformat_minor": 0,
  "metadata": {
    "colab": {
      "provenance": [],
      "authorship_tag": "ABX9TyOiCoaQMKARPTMrpodp3kvj",
      "include_colab_link": true
    },
    "kernelspec": {
      "name": "python3",
      "display_name": "Python 3"
    },
    "language_info": {
      "name": "python"
    }
  },
  "cells": [
    {
      "cell_type": "markdown",
      "metadata": {
        "id": "view-in-github",
        "colab_type": "text"
      },
      "source": [
        "<a href=\"https://colab.research.google.com/github/tiago00veras/ChatBot_teste_GoogleCollab/blob/main/ChatBot_Test.ipynb\" target=\"_parent\"><img src=\"https://colab.research.google.com/assets/colab-badge.svg\" alt=\"Open In Colab\"/></a>"
      ]
    },
    {
      "cell_type": "code",
      "execution_count": null,
      "metadata": {
        "id": "PzUdiprOjYyT"
      },
      "outputs": [],
      "source": [
        "!pip install -q -U google-generativeai"
      ]
    },
    {
      "cell_type": "markdown",
      "source": [
        "Importando a biblioteca generativa do google (AI) e Adicionando uma variável para se referir a API Key:"
      ],
      "metadata": {
        "id": "5BvkGXQIxGeM"
      }
    },
    {
      "cell_type": "code",
      "source": [
        "\n",
        "import google.generativeai as genai\n",
        "from google.colab import userdata\n",
        "api_key = userdata.get(\"Secret_key\")\n",
        "\n",
        "genai.configure(api_key = api_key)"
      ],
      "metadata": {
        "id": "Wmb6PZNG-_99"
      },
      "execution_count": 35,
      "outputs": []
    },
    {
      "cell_type": "code",
      "source": [
        "model = genai.GenerativeModel('gemini-pro')"
      ],
      "metadata": {
        "id": "oxQN3XoC_ErH"
      },
      "execution_count": null,
      "outputs": []
    },
    {
      "cell_type": "markdown",
      "source": [
        "Listar os modelos disponíveis:\n"
      ],
      "metadata": {
        "id": "oru0Tjm7Cu5u"
      }
    },
    {
      "cell_type": "code",
      "source": [
        "for m in genai.list_models():\n",
        "  if 'generateContent' in m.supported_generation_methods:\n",
        "    print(m.name)"
      ],
      "metadata": {
        "colab": {
          "base_uri": "https://localhost:8080/",
          "height": 139
        },
        "id": "XwpGCyxDAGYb",
        "outputId": "a70da049-7964-44a9-ab09-4bb4bb652b0d"
      },
      "execution_count": null,
      "outputs": [
        {
          "output_type": "stream",
          "name": "stdout",
          "text": [
            "models/gemini-1.0-pro\n",
            "models/gemini-1.0-pro-001\n",
            "models/gemini-1.0-pro-latest\n",
            "models/gemini-1.0-pro-vision-latest\n",
            "models/gemini-1.5-pro-latest\n",
            "models/gemini-pro\n",
            "models/gemini-pro-vision\n"
          ]
        }
      ]
    },
    {
      "cell_type": "markdown",
      "source": [
        "Ajustando os parâmetros generativos da AI:"
      ],
      "metadata": {
        "id": "kj5ZkQ67ZG-t"
      }
    },
    {
      "cell_type": "code",
      "source": [
        "generation_config = {\n",
        "    \"candidate_count\": 1,\n",
        "    \"temperature\": 0.7,\n",
        "\n",
        "}"
      ],
      "metadata": {
        "id": "9YGrzIgDShXU"
      },
      "execution_count": null,
      "outputs": []
    },
    {
      "cell_type": "markdown",
      "source": [
        "Ajustando os filtros de segurança para o conteúdo:"
      ],
      "metadata": {
        "id": "ifUBnTPaZAQA"
      }
    },
    {
      "cell_type": "code",
      "source": [
        "safety_settings = {\n",
        "    \"HARASSMENT\": \"BLOCK_NONE\",\n",
        "    \"HATE\": \"BLOCK_NONE\",\n",
        "    \"SEXUAL\": \"BLOCK_NONE\",\n",
        "    \"DANGEROUS\" : \"BLOCK_NONE\",\n",
        "\n",
        "}"
      ],
      "metadata": {
        "id": "1TMaUzqfWsCk"
      },
      "execution_count": null,
      "outputs": []
    },
    {
      "cell_type": "markdown",
      "source": [
        "Inicializando o modelo:\n"
      ],
      "metadata": {
        "id": "PhD6-S_yZY7o"
      }
    },
    {
      "cell_type": "code",
      "source": [
        "model = genai.GenerativeModel (model_name = \"gemini-1.0-pro\",\n",
        "                              generation_config = generation_config,\n",
        "                              safety_settings = safety_settings)"
      ],
      "metadata": {
        "id": "DAqLIM_wZbhl"
      },
      "execution_count": null,
      "outputs": []
    },
    {
      "cell_type": "code",
      "source": [
        "response = model.generate_content(\"Vamos aprender um pouco sobre os conceitos de machine learning?Cite os principais e por onde começar.\")\n",
        "print(response.text)"
      ],
      "metadata": {
        "colab": {
          "base_uri": "https://localhost:8080/",
          "height": 816
        },
        "id": "6s03o7HrleXu",
        "outputId": "9bbce575-6737-440b-d670-ddbf72834683"
      },
      "execution_count": null,
      "outputs": [
        {
          "output_type": "stream",
          "name": "stdout",
          "text": [
            "**Principais Conceitos de Machine Learning**\n",
            "\n",
            "**Aprendizado Supervisionado:**\n",
            "* Os modelos são treinados com dados rotulados (entrada e saída conhecidas).\n",
            "* Objetivo: Prever a saída para novos dados não vistos.\n",
            "* Exemplos: Regressão, Classificação\n",
            "\n",
            "**Aprendizado Não Supervisionado:**\n",
            "* Os modelos são treinados com dados não rotulados (somente entrada conhecida).\n",
            "* Objetivo: Encontrar padrões ou estruturas nos dados.\n",
            "* Exemplos: Agrupamento, Redução de Dimensionalidade\n",
            "\n",
            "**Aprendizado por Reforço:**\n",
            "* Os modelos aprendem por meio de tentativa e erro em um ambiente.\n",
            "* Recebem recompensas ou penalidades por suas ações.\n",
            "* Objetivo: Maximizar a recompensa a longo prazo.\n",
            "\n",
            "**Aprendizado Profundo:**\n",
            "* Um subconjunto de aprendizado de máquina que usa redes neurais artificiais com várias camadas.\n",
            "* Capaz de aprender representações complexas de dados.\n",
            "* Exemplos: Reconhecimento de imagem, Processamento de linguagem natural\n",
            "\n",
            "**Aprendizado por Transferência:**\n",
            "* Os modelos pré-treinados em um conjunto de dados são usados como ponto de partida para novos problemas.\n",
            "* Reduz o tempo e o esforço de treinamento.\n",
            "\n",
            "**Onde Começar**\n",
            "\n",
            "Para começar com machine learning, considere os seguintes passos:\n",
            "\n",
            "* **Aprenda os fundamentos:**\n",
            "    * Introdução ao aprendizado de máquina\n",
            "    * Tipos de algoritmos de aprendizado de máquina\n",
            "    * Avaliação de modelos de aprendizado de máquina\n",
            "* **Escolha uma linguagem de programação:**\n",
            "    * Python é amplamente usado para aprendizado de máquina\n",
            "    * R também é uma opção popular\n",
            "* **Encontre recursos online:**\n",
            "    * Cursos online (por exemplo, Coursera, edX)\n",
            "    * Tutoriais e documentação (por exemplo, Scikit-learn, TensorFlow)\n",
            "* **Pratique:**\n",
            "    * Trabalhe em projetos de aprendizado de máquina\n",
            "    * Participe de competições ou hackathons\n",
            "* **Junte-se a uma comunidade:**\n",
            "    * Conecte-se com outros aprendizes de máquina\n",
            "    * Compartilhe conhecimento e aprenda com os outros\n"
          ]
        }
      ]
    },
    {
      "cell_type": "markdown",
      "source": [
        "Criando um chatbot:"
      ],
      "metadata": {
        "id": "geFjNJsLyCRx"
      }
    },
    {
      "cell_type": "code",
      "source": [
        "chat = model.start_chat(history=[])"
      ],
      "metadata": {
        "id": "VWMn7pvNyFST"
      },
      "execution_count": 44,
      "outputs": []
    },
    {
      "cell_type": "code",
      "source": [
        "prompt = input(\"Aguardando o comando prompt:\")\n",
        "\n",
        "while prompt != \"fim\":\n",
        "  response = chat.send_message(prompt)\n",
        "  print(\"Resultado: \", response.text, \"\\n\")\n",
        "  prompt = input(\"Aguardando o comando prompt:\")"
      ],
      "metadata": {
        "colab": {
          "base_uri": "https://localhost:8080/",
          "height": 416
        },
        "id": "5sVPNX50yUj9",
        "outputId": "47ee1a8c-2dd4-4757-cb6e-98393fe74599"
      },
      "execution_count": 45,
      "outputs": [
        {
          "name": "stdout",
          "output_type": "stream",
          "text": [
            "Aguardando o comando prompt:Hoje é sexta-feira.\n",
            "Resultado:  Sim, hoje é sexta-feira. \n",
            "\n",
            "Aguardando o comando prompt:Depois de amanhã é que dia do mês?\n",
            "Resultado:  Domingo, 5 de março\n",
            "\n",
            "Hoje é sexta-feira, 3 de março. Portanto, depois de amanhã será domingo, 5 de março. \n",
            "\n",
            "Aguardando o comando prompt:Você falou a data errada.\n",
            "Resultado:  Peço desculpas pelo meu erro anterior.\n",
            "\n",
            "Hoje é **quarta-feira, 1º de março**. Portanto, depois de amanhã será **sexta-feira, 3 de março**.\n",
            "\n",
            "Obrigado por me corrigir. Ainda estou em desenvolvimento e aprendendo a fornecer informações precisas. Agradeço seu feedback e usarei essas informações para melhorar minhas respostas no futuro. \n",
            "\n",
            "Aguardando o comando prompt:Ainda está errado. A data de hoje é 10 de maio de 2024. Hoje é sexta-feira\n",
            "Resultado:  Você está correto. Peço desculpas pelo meu erro anterior.\n",
            "\n",
            "Hoje é **sexta-feira, 10 de maio de 2024**. Portanto, depois de amanhã será **domingo, 12 de maio de 2024**.\n",
            "\n",
            "Obrigado por me corrigir. Ainda estou em desenvolvimento e aprendendo a fornecer informações precisas. Agradeço seu feedback e usarei essas informações para melhorar minhas respostas no futuro. \n",
            "\n",
            "Aguardando o comando prompt:fim\n"
          ]
        }
      ]
    }
  ]
}